{
  "nbformat": 4,
  "nbformat_minor": 0,
  "metadata": {
    "colab": {
      "provenance": [],
      "gpuType": "T4",
      "authorship_tag": "ABX9TyOBObJ+RLrJogZcNGq7pFCe",
      "include_colab_link": true
    },
    "kernelspec": {
      "name": "python3",
      "display_name": "Python 3"
    },
    "language_info": {
      "name": "python"
    },
    "accelerator": "GPU"
  },
  "cells": [
    {
      "cell_type": "markdown",
      "metadata": {
        "id": "view-in-github",
        "colab_type": "text"
      },
      "source": [
        "<a href=\"https://colab.research.google.com/github/priyanshi1309/Foot_Ulcer_Classification/blob/main/Proposed_method.ipynb\" target=\"_parent\"><img src=\"https://colab.research.google.com/assets/colab-badge.svg\" alt=\"Open In Colab\"/></a>"
      ]
    },
    {
      "cell_type": "markdown",
      "source": [
        "# PROPOSED METHODOLOGY"
      ],
      "metadata": {
        "id": "F9y59pp16ww_"
      }
    },
    {
      "cell_type": "markdown",
      "source": [
        "# Import Libraries"
      ],
      "metadata": {
        "id": "HIKqdhIU62BF"
      }
    },
    {
      "cell_type": "code",
      "execution_count": null,
      "metadata": {
        "id": "yByHq7e-6v4q",
        "colab": {
          "base_uri": "https://localhost:8080/"
        },
        "outputId": "85f6f3bd-456d-4e41-f767-5367cf24bebe"
      },
      "outputs": [
        {
          "output_type": "stream",
          "name": "stdout",
          "text": [
            "Mounted at /content/drive\n",
            "/content/drive/MyDrive/DFU\n"
          ]
        }
      ],
      "source": [
        "from google.colab import drive\n",
        "drive.mount('/content/drive')\n",
        "%cd '/content/drive/MyDrive/DFU'"
      ]
    },
    {
      "cell_type": "code",
      "source": [
        "!pip install tensorflow-addons"
      ],
      "metadata": {
        "id": "Dij24YA5EYQ8",
        "colab": {
          "base_uri": "https://localhost:8080/"
        },
        "outputId": "fa116079-e24b-4fab-e637-afba7b377fa5"
      },
      "execution_count": null,
      "outputs": [
        {
          "output_type": "stream",
          "name": "stdout",
          "text": [
            "Looking in indexes: https://pypi.org/simple, https://us-python.pkg.dev/colab-wheels/public/simple/\n",
            "Collecting tensorflow-addons\n",
            "  Downloading tensorflow_addons-0.20.0-cp310-cp310-manylinux_2_17_x86_64.manylinux2014_x86_64.whl (591 kB)\n",
            "\u001b[2K     \u001b[90m━━━━━━━━━━━━━━━━━━━━━━━━━━━━━━━━━━━━━━\u001b[0m \u001b[32m591.0/591.0 kB\u001b[0m \u001b[31m40.8 MB/s\u001b[0m eta \u001b[36m0:00:00\u001b[0m\n",
            "\u001b[?25hRequirement already satisfied: packaging in /usr/local/lib/python3.10/dist-packages (from tensorflow-addons) (23.1)\n",
            "Collecting typeguard<3.0.0,>=2.7 (from tensorflow-addons)\n",
            "  Downloading typeguard-2.13.3-py3-none-any.whl (17 kB)\n",
            "Installing collected packages: typeguard, tensorflow-addons\n",
            "Successfully installed tensorflow-addons-0.20.0 typeguard-2.13.3\n"
          ]
        }
      ]
    },
    {
      "cell_type": "code",
      "source": [
        "from tensorflow.keras.preprocessing.image import ImageDataGenerator\n",
        "import tensorflow as tf\n",
        "from tensorflow.keras.applications import EfficientNetB0, InceptionResNetV2\n",
        "from tensorflow.keras.layers import concatenate, Flatten, Dense, Input\n",
        "from tensorflow.keras.models import Model\n",
        "from sklearn.svm import SVC\n",
        "from sklearn.model_selection import train_test_split\n",
        "from sklearn.metrics import accuracy_score\n",
        "from tensorflow.keras import metrics\n",
        "from tensorflow.keras.metrics import Precision, Recall\n",
        "from tensorflow_addons.metrics import F1Score\n",
        "import matplotlib.pyplot as plt"
      ],
      "metadata": {
        "id": "pFTJV33X2Dar",
        "colab": {
          "base_uri": "https://localhost:8080/"
        },
        "outputId": "fd989068-8755-4b59-d11e-4214917218c3"
      },
      "execution_count": null,
      "outputs": [
        {
          "output_type": "stream",
          "name": "stderr",
          "text": [
            "/usr/local/lib/python3.10/dist-packages/tensorflow_addons/utils/tfa_eol_msg.py:23: UserWarning: \n",
            "\n",
            "TensorFlow Addons (TFA) has ended development and introduction of new features.\n",
            "TFA has entered a minimal maintenance and release mode until a planned end of life in May 2024.\n",
            "Please modify downstream libraries to take dependencies from other repositories in our TensorFlow community (e.g. Keras, Keras-CV, and Keras-NLP). \n",
            "\n",
            "For more information see: https://github.com/tensorflow/addons/issues/2807 \n",
            "\n",
            "  warnings.warn(\n"
          ]
        }
      ]
    },
    {
      "cell_type": "markdown",
      "source": [
        "# Load Dataset"
      ],
      "metadata": {
        "id": "iS6TbXDyJHyZ"
      }
    },
    {
      "cell_type": "code",
      "source": [
        "# Define Constants\n",
        "TRAIN_PATH = '/content/drive/MyDrive/DFU/Patches'\n",
        "TEST_PATH = '/content/drive/MyDrive/DFU/Test/'\n",
        "\n",
        "BATCH_SIZE = 32\n",
        "IMAGE_HEIGHT = 224\n",
        "IMAGE_WIDTH = 224\n",
        "NUM_CLASSES = 2\n",
        "EPOCHS = 10"
      ],
      "metadata": {
        "id": "T0JxUJka2PfS"
      },
      "execution_count": null,
      "outputs": []
    },
    {
      "cell_type": "code",
      "source": [
        "# Define data augmentation parameters\n",
        "data_augmentation = ImageDataGenerator(\n",
        "    rotation_range=20,\n",
        "    width_shift_range=0.1,\n",
        "    height_shift_range=0.1,\n",
        "    shear_range=0.2,\n",
        "    zoom_range=0.2,\n",
        "    horizontal_flip=True,\n",
        "    brightness_range=[0.8, 1.2],\n",
        "    fill_mode='nearest',\n",
        "    validation_split=0.2\n",
        ")"
      ],
      "metadata": {
        "id": "1Gs5cCxS2ABI"
      },
      "execution_count": null,
      "outputs": []
    },
    {
      "cell_type": "code",
      "source": [
        "train_generator = data_augmentation.flow_from_directory(\n",
        "    TRAIN_PATH,\n",
        "    target_size=(224, 224),\n",
        "    batch_size=BATCH_SIZE,\n",
        "    class_mode='categorical',\n",
        "    shuffle=True,\n",
        "    subset='training'\n",
        ")\n",
        "\n",
        "validation_generator = data_augmentation.flow_from_directory(\n",
        "    TRAIN_PATH,\n",
        "    target_size=(224, 224),\n",
        "    batch_size=BATCH_SIZE,\n",
        "    class_mode='categorical',\n",
        "    shuffle=True,\n",
        "    subset='validation'\n",
        ")"
      ],
      "metadata": {
        "id": "K-SVtsJA2Yu-",
        "colab": {
          "base_uri": "https://localhost:8080/"
        },
        "outputId": "10d2942f-6f50-4542-89ad-1204986aa033"
      },
      "execution_count": null,
      "outputs": [
        {
          "output_type": "stream",
          "name": "stdout",
          "text": [
            "Found 845 images belonging to 2 classes.\n",
            "Found 210 images belonging to 2 classes.\n"
          ]
        }
      ]
    },
    {
      "cell_type": "code",
      "source": [
        "\n",
        "test_generator = ImageDataGenerator().flow_from_directory(\n",
        "    TEST_PATH,\n",
        "    target_size=(224, 224),\n",
        "    batch_size=BATCH_SIZE,\n",
        "    class_mode='categorical'\n",
        ")\n"
      ],
      "metadata": {
        "colab": {
          "base_uri": "https://localhost:8080/"
        },
        "id": "Ho-cNeTkI2br",
        "outputId": "42cc8b1a-ca5a-45c1-fb35-0ea1cc139cf4"
      },
      "execution_count": null,
      "outputs": [
        {
          "output_type": "stream",
          "name": "stdout",
          "text": [
            "Found 179 images belonging to 1 classes.\n"
          ]
        }
      ]
    },
    {
      "cell_type": "markdown",
      "source": [
        "# Proposed Model"
      ],
      "metadata": {
        "id": "BSRJJbHgJNVa"
      }
    },
    {
      "cell_type": "code",
      "source": [
        "# Define the input shape\n",
        "input_shape = (224, 224, 3)\n",
        "\n",
        "# Create an input layer\n",
        "input_layer = Input(shape=input_shape)\n",
        "\n",
        "# Load the pre-trained models without the top classification layers\n",
        "effnet = EfficientNetB0(weights='imagenet', include_top=False, input_tensor=input_layer)\n",
        "inception = InceptionResNetV2(weights='imagenet', include_top=False, input_tensor=input_layer)\n",
        "\n",
        "# Freeze the weights of the pre-trained models\n",
        "effnet.trainable = True\n",
        "inception.trainable = True\n",
        "\n",
        "# Get the output tensors of the pre-trained models\n",
        "effnet_output = effnet.output\n",
        "inception_output = inception.output\n",
        "\n",
        "# Flatten the output tensors\n",
        "effnet_output = Flatten()(effnet_output)\n",
        "inception_output = Flatten()(inception_output)\n",
        "\n",
        "# Concatenate the flattened outputs\n",
        "concatenated = concatenate([effnet_output, inception_output])\n",
        "\n",
        "# Add a dense layer for classification\n",
        "dense = Dense(128, activation='relu')(concatenated)\n",
        "output = Dense(2, activation='softmax')(dense)\n",
        "\n",
        "# Create the final model with the input layer\n",
        "model = Model(inputs=input_layer, outputs=output)\n",
        "\n"
      ],
      "metadata": {
        "id": "1RKlUNNh2mC0",
        "colab": {
          "base_uri": "https://localhost:8080/"
        },
        "outputId": "77fce820-d61a-4c50-9aed-4c8873841d88"
      },
      "execution_count": null,
      "outputs": [
        {
          "output_type": "stream",
          "name": "stdout",
          "text": [
            "Downloading data from https://storage.googleapis.com/keras-applications/efficientnetb0_notop.h5\n",
            "16705208/16705208 [==============================] - 2s 0us/step\n",
            "Downloading data from https://storage.googleapis.com/tensorflow/keras-applications/inception_resnet_v2/inception_resnet_v2_weights_tf_dim_ordering_tf_kernels_notop.h5\n",
            "219055592/219055592 [==============================] - 10s 0us/step\n"
          ]
        }
      ]
    },
    {
      "cell_type": "code",
      "source": [
        "# Compile the model\n",
        "model.compile(optimizer='adam', loss='categorical_crossentropy', metrics=[\"accuracy\",\n",
        "            Precision(name=\"precision\"),\n",
        "            Recall(name=\"recall\"),\n",
        "            F1Score(name=\"f1_score\", num_classes=2, average=\"weighted\")])"
      ],
      "metadata": {
        "id": "GRlGu16m2_7Y"
      },
      "execution_count": null,
      "outputs": []
    },
    {
      "cell_type": "code",
      "source": [
        "# Train the model\n",
        "history = model.fit(\n",
        "    train_generator,\n",
        "    steps_per_epoch=train_generator.samples // BATCH_SIZE,\n",
        "    epochs=EPOCHS\n",
        ")"
      ],
      "metadata": {
        "id": "IwBUsI933VFa",
        "colab": {
          "base_uri": "https://localhost:8080/"
        },
        "outputId": "58fb5e0c-4fec-4e5b-f40c-fce1b9f8e645"
      },
      "execution_count": null,
      "outputs": [
        {
          "output_type": "stream",
          "name": "stdout",
          "text": [
            "Epoch 1/10\n",
            "26/26 [==============================] - 401s 9s/step - loss: 1.2026 - accuracy: 0.9114 - precision: 0.9114 - recall: 0.9114 - f1_score: 0.9115\n",
            "Epoch 2/10\n",
            "26/26 [==============================] - 24s 902ms/step - loss: 0.0520 - accuracy: 0.9803 - precision: 0.9803 - recall: 0.9803 - f1_score: 0.9803\n",
            "Epoch 3/10\n",
            "26/26 [==============================] - 23s 875ms/step - loss: 0.0309 - accuracy: 0.9902 - precision: 0.9902 - recall: 0.9902 - f1_score: 0.9902\n",
            "Epoch 4/10\n",
            "26/26 [==============================] - 24s 890ms/step - loss: 0.0297 - accuracy: 0.9852 - precision: 0.9852 - recall: 0.9852 - f1_score: 0.9852\n",
            "Epoch 5/10\n",
            "26/26 [==============================] - 24s 909ms/step - loss: 0.0567 - accuracy: 0.9803 - precision: 0.9803 - recall: 0.9803 - f1_score: 0.9803\n",
            "Epoch 6/10\n",
            "26/26 [==============================] - 23s 879ms/step - loss: 0.0568 - accuracy: 0.9766 - precision: 0.9766 - recall: 0.9766 - f1_score: 0.9766\n",
            "Epoch 7/10\n",
            "26/26 [==============================] - 24s 914ms/step - loss: 0.0315 - accuracy: 0.9889 - precision: 0.9889 - recall: 0.9889 - f1_score: 0.9889\n",
            "Epoch 8/10\n",
            "26/26 [==============================] - 24s 928ms/step - loss: 0.0081 - accuracy: 0.9963 - precision: 0.9963 - recall: 0.9963 - f1_score: 0.9963\n",
            "Epoch 9/10\n",
            "26/26 [==============================] - 23s 874ms/step - loss: 0.0281 - accuracy: 0.9914 - precision: 0.9914 - recall: 0.9914 - f1_score: 0.9914\n",
            "Epoch 10/10\n",
            "26/26 [==============================] - 24s 890ms/step - loss: 0.0233 - accuracy: 0.9951 - precision: 0.9951 - recall: 0.9951 - f1_score: 0.9951\n"
          ]
        }
      ]
    },
    {
      "cell_type": "code",
      "source": [
        "# Plot curves\n",
        "def plot_hist(hist):\n",
        "    plt.plot(hist.history[\"accuracy\"])\n",
        "    plt.title(\"model accuracy\")\n",
        "    plt.ylabel(\"accuracy\")\n",
        "    plt.xlabel(\"epoch\")\n",
        "    plt.legend(\"train\", loc=\"upper left\")\n",
        "    plt.show()\n",
        "\n",
        "\n",
        "plot_hist(history)"
      ],
      "metadata": {
        "id": "1KQ6vzJ4EM-0",
        "colab": {
          "base_uri": "https://localhost:8080/",
          "height": 472
        },
        "outputId": "621ad831-847c-472d-c7aa-0768f26939dd"
      },
      "execution_count": null,
      "outputs": [
        {
          "output_type": "display_data",
          "data": {
            "text/plain": [
              "<Figure size 640x480 with 1 Axes>"
            ],
            "image/png": "[encoded data removed]"
          },
          "metadata": {}
        }
      ]
    },
    {
      "cell_type": "code",
      "source": [
        "# Plot curves\n",
        "def plot_hist(hist):\n",
        "    plt.plot(hist.history[\"loss\"])\n",
        "    plt.title(\"model loss\")\n",
        "    plt.ylabel(\"loss\")\n",
        "    plt.xlabel(\"epoch\")\n",
        "    plt.legend(\"train\", loc=\"upper left\")\n",
        "    plt.show()\n",
        "\n",
        "\n",
        "plot_hist(history)"
      ],
      "metadata": {
        "id": "fQVpPn7o6jWI",
        "colab": {
          "base_uri": "https://localhost:8080/",
          "height": 472
        },
        "outputId": "8663fc7f-b6a5-4f69-c31a-3b7f7b1f0a65"
      },
      "execution_count": null,
      "outputs": [
        {
          "output_type": "display_data",
          "data": {
            "text/plain": [
              "<Figure size 640x480 with 1 Axes>"
            ],
            "image/png": "[encoded data removed]"
          },
          "metadata": {}
        }
      ]
    },
    {
      "cell_type": "code",
      "source": [
        "# Evaluate the model on the augmented validation dataset\n",
        "val_loss, val_acc, val_precision, val_recall, val_f1_score = model.evaluate(validation_generator)\n",
        "\n",
        "print('Val Loss:', val_loss)\n",
        "print('Val Accuracy:', val_acc)\n",
        "print('Val Precision:', val_precision)\n",
        "print('Val Recall:', val_recall)\n",
        "print('Val F1 Score:', val_f1_score)"
      ],
      "metadata": {
        "id": "yjfD7Aaleef1",
        "colab": {
          "base_uri": "https://localhost:8080/"
        },
        "outputId": "2014d780-07f0-4bda-d9d3-ea0d7e21a3ff"
      },
      "execution_count": null,
      "outputs": [
        {
          "output_type": "stream",
          "name": "stdout",
          "text": [
            "7/7 [==============================] - 4s 587ms/step - loss: 0.0575 - accuracy: 0.9810 - precision: 0.9810 - recall: 0.9810 - f1_score: 0.9810\n",
            "Val Loss: 0.05754514038562775\n",
            "Val Accuracy: 0.9809523820877075\n",
            "Val Precision: 0.9809523820877075\n",
            "Val Recall: 0.9809523820877075\n",
            "Val F1 Score: 0.9809558391571045\n"
          ]
        }
      ]
    }
  ]
}